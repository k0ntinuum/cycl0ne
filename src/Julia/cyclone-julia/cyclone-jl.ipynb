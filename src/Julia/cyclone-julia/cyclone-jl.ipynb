{
 "cells": [
  {
   "cell_type": "markdown",
   "id": "2eb47560",
   "metadata": {},
   "source": [
    "The Cyclone system is loosely inspired by the famous Enigma machine. I picture the Cyclone machine as a stack of spinning discs or wheels (which inspired the name). \n",
    "\n",
    "The key is an $n \\times n $ square matrix, with each row of integers representing a permutation in the form $[ f(1) \\quad f(2) \\quad ... f(n-1) \\quad f(n) ]$. Especially for $n = 27$, it's nice to use the alphabet and the underscore to represent the key.\n",
    "\n",
    "\n"
   ]
  },
  {
   "cell_type": "code",
   "execution_count": 118,
   "id": "b33d9ac3",
   "metadata": {},
   "outputs": [
    {
     "name": "stdout",
     "output_type": "stream",
     "text": [
      "J C E K T U L A B H F R V Z X I S G Y D N _ Q W P O M \n",
      "P _ F T Z G C A E K W L X U Q S O H V N M I J B R Y D \n",
      "G Y _ L C O M T A Z B R P J F W S U H X D N Q V K I E \n",
      "Y _ H N X P D R J W V S T L M K I U Z A O C F E Q B G \n",
      "T G O W F Y J B D N I V S H Z M Q R A U X C K L E _ P \n",
      "O H Y E N W _ X B C R Z D Q F L I V M K G T P U J S A \n",
      "N H D L E I A K O T G V Q B Z U J Y F P C _ W X R M S \n",
      "X P U M O K _ W G Y C H L F A E N T R Q V S D J Z B I \n",
      "A _ H V Y W E K U J B I S G L F T P C Q R X Z N M O D \n",
      "S N G K R V Z H C E B A _ U X O M J Y P F D T Q L I W \n",
      "Z M U G A Y O P E _ H I S V N D B Q W F R X L C J K T \n",
      "M O L F Y A H S J X B T U K Q R G Z I V W N P E _ C D \n",
      "L X _ P T E C F W A Y O J N Z G D S I K B R H Q M U V \n",
      "H A K G U W R X Z Y V T L S J F M P Q _ I C N B O E D \n",
      "P Q C E H T O Z U S K N A I Y W J _ G X L F B D V R M \n",
      "A S B J G _ I V M X F Y U K P Q C T R E W H N O D Z L \n",
      "A Q K _ D W S V X O T Z I M B F L P U J E R Y C N H G \n",
      "T A E H S Z N K G B R _ L M V X J D C Y U Q P F I W O \n",
      "C H G F A X Q T K R O V M U _ I S W L D B P Z Y N E J \n",
      "B H O C W X U K L M E N Y Z G V P R I S D F J Q _ A T \n",
      "Z T B X W N H S J U I C L R K M G E V A Y Q D F _ O P \n",
      "E Q S I C B T P V A G F _ K H R L M N D Y X W O J Z U \n",
      "X F E L W I N H C O Y Z B V G K A R J Q P T U D _ M S \n",
      "X G Z Y R P I M _ E K D A C N U O Q L W T S H V F J B \n",
      "J W D I Q R L _ T S P N Y O V U B C Z H A G X F E K M \n",
      "G Y _ B S F Z V C I D R U T O E Q N K J P H A L X W M \n",
      "J U Q A W M _ N E P S B F R K X I G T L H O D Y Z V C \n"
     ]
    }
   ],
   "source": [
    "using Random\n",
    "using Printf\n",
    "const Symbol = Int64\n",
    "n  = 27\n",
    "function randomkey(n)\n",
    "    k =zeros(Symbol, n, n)\n",
    "    for i in 1:n\n",
    "        k[i,:] = Random.randperm(n)\n",
    "    end\n",
    "    k\n",
    "end\n",
    "\n",
    "function printsymbol(s)\n",
    "    if s <= 26 \n",
    "        print(Char(s+64),\" \") \n",
    "    else\n",
    "        print(\"_ \")\n",
    "    end\n",
    "end\n",
    "\n",
    "function printvec(v)\n",
    "    for i in 1:length(v)\n",
    "        #@printf \"%d \" i\n",
    "        printsymbol(v[i])\n",
    "    end\n",
    "    @printf \"\\n\"\n",
    "end\n",
    "\n",
    "function printkey(k)\n",
    "    for i in 1:size(k)[begin]\n",
    "        printvec(k[i,:])\n",
    "    end\n",
    "end\n",
    "        \n",
    "  \n",
    "k = randomkey(n)\n",
    "printkey(k)\n"
   ]
  },
  {
   "cell_type": "code",
   "execution_count": 60,
   "id": "aa51ce0e",
   "metadata": {},
   "outputs": [],
   "source": [
    "function safe(i,n)\n",
    "    if i > n\n",
    "        i = i - n\n",
    "    end\n",
    "    if i < 1\n",
    "        i = i + n\n",
    "    end\n",
    "    i\n",
    "end\n",
    ";"
   ]
  },
  {
   "cell_type": "code",
   "execution_count": 61,
   "id": "c333daee",
   "metadata": {},
   "outputs": [],
   "source": [
    "function randomkey(n)\n",
    "    k =zeros(Symbol, n, n)\n",
    "    for i in 1:n\n",
    "        k[i,:] = Random.randperm(n)\n",
    "    end\n",
    "    k\n",
    "end\n",
    "        \n",
    "  \n",
    "k = randomkey(n)\n",
    ";"
   ]
  },
  {
   "cell_type": "code",
   "execution_count": null,
   "id": "cdbc4133",
   "metadata": {},
   "outputs": [],
   "source": [
    "\n",
    "\n"
   ]
  },
  {
   "cell_type": "code",
   "execution_count": 62,
   "id": "561bc050",
   "metadata": {},
   "outputs": [
    {
     "data": {
      "text/plain": [
       "getf (generic function with 1 method)"
      ]
     },
     "execution_count": 62,
     "metadata": {},
     "output_type": "execute_result"
    }
   ],
   "source": [
    "function getf(k,s)\n",
    "    n = size(k)[begin]\n",
    "    f = zeros(Symbol,n)\n",
    "    for i in 1:n\n",
    "        x = i\n",
    "        for j in 1:n\n",
    "            x = k[ j, safe(x+s[j],n)  ]\n",
    "        end\n",
    "        f[i] = x\n",
    "    end\n",
    "    f\n",
    "end\n",
    "    \n",
    "    "
   ]
  },
  {
   "cell_type": "code",
   "execution_count": 63,
   "id": "d4651efc",
   "metadata": {},
   "outputs": [
    {
     "data": {
      "text/plain": [
       "encode (generic function with 1 method)"
      ]
     },
     "execution_count": 63,
     "metadata": {},
     "output_type": "execute_result"
    }
   ],
   "source": [
    "function encode(p,k)\n",
    "    l = length(p)\n",
    "    c = zeros(Symbol,l)\n",
    "    n = size(k)[begin]\n",
    "    s = zeros(Symbol,n)\n",
    "    for i in 1:l\n",
    "        f = getf(k,s)\n",
    "        c[i] = f[p[i]]\n",
    "        for j in 1:n\n",
    "            s[j] = safe(f[j]+s[j],n)\n",
    "        end\n",
    "    end\n",
    "    c\n",
    "end\n",
    "\n",
    "       "
   ]
  },
  {
   "cell_type": "code",
   "execution_count": 64,
   "id": "1a00ed3f",
   "metadata": {},
   "outputs": [
    {
     "data": {
      "text/plain": [
       "inverse (generic function with 1 method)"
      ]
     },
     "execution_count": 64,
     "metadata": {},
     "output_type": "execute_result"
    }
   ],
   "source": [
    "function inverse(f)\n",
    "    g = zeros(Symbol, length(f))\n",
    "    for i in 1:n\n",
    "        g[i] = findfirst(isequal(i),f)\n",
    "    end\n",
    "    g\n",
    "end\n",
    "    \n",
    "        \n",
    "    \n",
    "    "
   ]
  },
  {
   "cell_type": "code",
   "execution_count": 65,
   "id": "b68c4d95",
   "metadata": {},
   "outputs": [
    {
     "data": {
      "text/plain": [
       "decode (generic function with 1 method)"
      ]
     },
     "execution_count": 65,
     "metadata": {},
     "output_type": "execute_result"
    }
   ],
   "source": [
    "function decode(p,k)\n",
    "    l = length(p)\n",
    "    c = zeros(Symbol,l)\n",
    "    n = size(k)[begin]\n",
    "    s = zeros(Symbol,n)\n",
    "    for i in 1:l\n",
    "        f = getf(k,s)\n",
    "        g = inverse(f)\n",
    "        c[i] = g[p[i]]\n",
    "        for j in 1:n\n",
    "            s[j] = safe(f[j]+s[j],n)\n",
    "        end\n",
    "    end\n",
    "    c\n",
    "end\n"
   ]
  },
  {
   "cell_type": "code",
   "execution_count": 66,
   "id": "79a376a5",
   "metadata": {},
   "outputs": [
    {
     "data": {
      "text/plain": [
       "printvec (generic function with 1 method)"
      ]
     },
     "execution_count": 66,
     "metadata": {},
     "output_type": "execute_result"
    }
   ],
   "source": [
    "function printvec(v)\n",
    "    for i in v\n",
    "        @printf \"%d \" i\n",
    "    end\n",
    "    @printf \"\\n\"\n",
    "end"
   ]
  },
  {
   "cell_type": "code",
   "execution_count": 74,
   "id": "63025ca8",
   "metadata": {},
   "outputs": [],
   "source": [
    "function encrypt(p, k, r)\n",
    "    for i in 1:r\n",
    "        p = encode(p,k)\n",
    "        p = reverse(p)\n",
    "    end\n",
    "    p\n",
    "end\n",
    "\n",
    "function decrypt(p, k, r)\n",
    "    p\n",
    "    for i in 1:r\n",
    "        p = reverse(p)\n",
    "        p = decode(p,k)\n",
    "    end\n",
    "    p\n",
    "end\n",
    "    \n",
    "\n",
    "\n",
    "\n",
    "\n",
    "\n",
    "\n",
    "\n",
    ";\n"
   ]
  },
  {
   "cell_type": "code",
   "execution_count": 70,
   "id": "dab7f8cd",
   "metadata": {},
   "outputs": [
    {
     "ename": "LoadError",
     "evalue": "MethodError: no method matching reverse(::Nothing)\n\n\u001b[0mClosest candidates are:\n\u001b[0m  reverse(\u001b[91m::Tuple\u001b[39m)\n\u001b[0m\u001b[90m   @\u001b[39m \u001b[90mBase\u001b[39m \u001b[90m\u001b[4mtuple.jl:562\u001b[24m\u001b[39m\n\u001b[0m  reverse(\u001b[91m::Pair{A, B}\u001b[39m) where {A, B}\n\u001b[0m\u001b[90m   @\u001b[39m \u001b[90mBase\u001b[39m \u001b[90m\u001b[4mpair.jl:53\u001b[24m\u001b[39m\n\u001b[0m  reverse(\u001b[91m::NamedTuple\u001b[39m)\n\u001b[0m\u001b[90m   @\u001b[39m \u001b[90mBase\u001b[39m \u001b[90m\u001b[4mnamedtuple.jl:324\u001b[24m\u001b[39m\n\u001b[0m  ...\n",
     "output_type": "error",
     "traceback": [
      "MethodError: no method matching reverse(::Nothing)\n\n\u001b[0mClosest candidates are:\n\u001b[0m  reverse(\u001b[91m::Tuple\u001b[39m)\n\u001b[0m\u001b[90m   @\u001b[39m \u001b[90mBase\u001b[39m \u001b[90m\u001b[4mtuple.jl:562\u001b[24m\u001b[39m\n\u001b[0m  reverse(\u001b[91m::Pair{A, B}\u001b[39m) where {A, B}\n\u001b[0m\u001b[90m   @\u001b[39m \u001b[90mBase\u001b[39m \u001b[90m\u001b[4mpair.jl:53\u001b[24m\u001b[39m\n\u001b[0m  reverse(\u001b[91m::NamedTuple\u001b[39m)\n\u001b[0m\u001b[90m   @\u001b[39m \u001b[90mBase\u001b[39m \u001b[90m\u001b[4mnamedtuple.jl:324\u001b[24m\u001b[39m\n\u001b[0m  ...\n",
      "",
      "Stacktrace:",
      " [1] decrypt(p::Nothing, k::Matrix{Int64}, r::Int64)",
      "   @ Main ./In[67]:12",
      " [2] top-level scope",
      "   @ In[70]:3"
     ]
    }
   ],
   "source": [
    "p = Random.randperm(n)\n",
    "c = encrypt(p,k,r)\n",
    "d = decrypt(c,k,r)\n",
    "printvec(p)\n",
    "printvec(c)\n",
    "printvec(d)\n",
    "p == d\n",
    "\n",
    "\n"
   ]
  },
  {
   "cell_type": "code",
   "execution_count": 76,
   "id": "701071b3",
   "metadata": {},
   "outputs": [
    {
     "name": "stdout",
     "output_type": "stream",
     "text": [
      "2 9 6 3 8 1 7 4 5 \n",
      "6 5 1 3 1 4 4 1 4 \n",
      "1true\n",
      "9 2 8 3 6 4 5 7 1 \n",
      "8 8 4 9 8 8 3 5 9 \n",
      "2true\n",
      "8 9 4 7 6 3 2 1 5 \n",
      "3 8 8 4 1 2 4 7 7 \n",
      "3true\n",
      "8 3 1 5 7 9 2 4 6 \n",
      "9 7 1 5 3 5 3 3 5 \n",
      "4true\n",
      "8 7 6 1 3 2 5 4 9 \n",
      "8 4 6 7 1 1 5 6 1 \n",
      "5true\n",
      "4 3 6 5 8 7 2 1 9 \n",
      "4 4 8 7 7 2 9 4 9 \n",
      "6true\n",
      "2 3 1 5 9 7 8 4 6 \n",
      "3 6 7 7 9 7 7 8 6 \n",
      "7true\n",
      "5 9 3 7 1 2 6 4 8 \n",
      "5 5 6 7 9 2 1 6 8 \n",
      "8true\n",
      "7 8 3 1 9 6 4 2 5 \n",
      "6 5 6 8 5 8 4 8 8 \n",
      "9true\n",
      "4 7 2 3 1 6 8 5 9 \n",
      "8 2 2 2 5 9 1 6 1 \n",
      "10true\n"
     ]
    }
   ],
   "source": [
    "for i in 1:10\n",
    "    p = Random.randperm(n)\n",
    "    c = encrypt(p,k,i)\n",
    "    d = decrypt(c,k,i)\n",
    "    printvec(p)\n",
    "    printvec(c)\n",
    "    #printvec(d)\n",
    "    print(i, p == d)\n",
    "    @printf \"\\n\"\n",
    "end\n",
    "    "
   ]
  },
  {
   "cell_type": "code",
   "execution_count": 75,
   "id": "0641a8c7",
   "metadata": {},
   "outputs": [
    {
     "data": {
      "text/plain": [
       "9-element Vector{Int64}:\n",
       " 8\n",
       " 7\n",
       " 2\n",
       " 4\n",
       " 2\n",
       " 5\n",
       " 8\n",
       " 3\n",
       " 9"
      ]
     },
     "execution_count": 75,
     "metadata": {},
     "output_type": "execute_result"
    }
   ],
   "source": [
    "encrypt(p,k,1)"
   ]
  },
  {
   "cell_type": "code",
   "execution_count": 77,
   "id": "4890451f",
   "metadata": {},
   "outputs": [
    {
     "data": {
      "text/plain": [
       "9×9 Matrix{Int64}:\n",
       " 4  3  7  8  5  9  6  2  1\n",
       " 9  1  3  5  2  7  6  8  4\n",
       " 9  5  2  6  4  1  7  8  3\n",
       " 5  4  2  8  1  7  9  6  3\n",
       " 1  5  6  2  8  7  9  3  4\n",
       " 1  5  6  8  9  3  4  2  7\n",
       " 6  1  5  8  4  3  9  7  2\n",
       " 9  2  1  4  6  8  7  3  5\n",
       " 3  1  7  4  2  9  8  5  6"
      ]
     },
     "execution_count": 77,
     "metadata": {},
     "output_type": "execute_result"
    }
   ],
   "source": [
    "k\n"
   ]
  },
  {
   "cell_type": "code",
   "execution_count": 79,
   "id": "1ea51e9f",
   "metadata": {},
   "outputs": [
    {
     "data": {
      "text/plain": [
       "9-element Vector{Int64}:\n",
       " 1\n",
       " 4\n",
       " 3\n",
       " 7\n",
       " 8\n",
       " 5\n",
       " 9\n",
       " 6\n",
       " 2"
      ]
     },
     "execution_count": 79,
     "metadata": {},
     "output_type": "execute_result"
    }
   ],
   "source": [
    "circshift!(k[1,:],1)\n"
   ]
  },
  {
   "cell_type": "code",
   "execution_count": 83,
   "id": "a05cb091",
   "metadata": {},
   "outputs": [
    {
     "data": {
      "text/plain": [
       "9×9 Matrix{Int64}:\n",
       " 1  4  3  7  8  5  9  6  2\n",
       " 0  0  0  0  0  0  0  0  0\n",
       " 0  0  0  0  0  0  0  0  0\n",
       " 0  0  0  0  0  0  0  0  0\n",
       " 0  0  0  0  0  0  0  0  0\n",
       " 0  0  0  0  0  0  0  0  0\n",
       " 0  0  0  0  0  0  0  0  0\n",
       " 0  0  0  0  0  0  0  0  0\n",
       " 0  0  0  0  0  0  0  0  0"
      ]
     },
     "execution_count": 83,
     "metadata": {},
     "output_type": "execute_result"
    }
   ],
   "source": [
    "K = zeros(Symbol, (n,n))\n",
    "K[1,:] = circshift(k[1,:],1)\n",
    "K"
   ]
  },
  {
   "cell_type": "code",
   "execution_count": 84,
   "id": "9c570f2f",
   "metadata": {},
   "outputs": [
    {
     "data": {
      "text/plain": [
       "spin (generic function with 1 method)"
      ]
     },
     "execution_count": 84,
     "metadata": {},
     "output_type": "execute_result"
    }
   ],
   "source": [
    "function spin(k,r)\n",
    "    n = size(k)[begin]\n",
    "    s = zeros(Symbol,n)\n",
    "    for i in 1:r\n",
    "        f = getf(k,s)\n",
    "        for j in 1:n\n",
    "            s[j] = safe(f[j]+s[j],n)\n",
    "        end\n",
    "    end\n",
    "    K = zeros(Symbol,(n,n))\n",
    "    for j in 1:n\n",
    "            K[j,:] = circshift(k[j,:],s[j])\n",
    "    end\n",
    "    K\n",
    "end\n",
    "    "
   ]
  },
  {
   "cell_type": "code",
   "execution_count": 88,
   "id": "4224f437",
   "metadata": {},
   "outputs": [
    {
     "data": {
      "text/plain": [
       "9×9 Matrix{Int64}:\n",
       " 7  8  5  9  6  2  1  4  3\n",
       " 1  3  5  2  7  6  8  4  9\n",
       " 7  8  3  9  5  2  6  4  1\n",
       " 5  4  2  8  1  7  9  6  3\n",
       " 5  6  2  8  7  9  3  4  1\n",
       " 2  7  1  5  6  8  9  3  4\n",
       " 6  1  5  8  4  3  9  7  2\n",
       " 5  9  2  1  4  6  8  7  3\n",
       " 7  4  2  9  8  5  6  3  1"
      ]
     },
     "execution_count": 88,
     "metadata": {},
     "output_type": "execute_result"
    }
   ],
   "source": [
    "k = spin(k,10)"
   ]
  },
  {
   "cell_type": "code",
   "execution_count": 91,
   "id": "ff6091e5",
   "metadata": {},
   "outputs": [
    {
     "data": {
      "text/plain": [
       "printsymbol (generic function with 1 method)"
      ]
     },
     "execution_count": 91,
     "metadata": {},
     "output_type": "execute_result"
    }
   ],
   "source": [
    "function printsymbol(s)\n",
    "    print(Char(s+64))\n",
    "end"
   ]
  },
  {
   "cell_type": "code",
   "execution_count": 93,
   "id": "5712a741",
   "metadata": {},
   "outputs": [
    {
     "name": "stdout",
     "output_type": "stream",
     "text": [
      "G"
     ]
    }
   ],
   "source": [
    "printsymbol(k[1,1])"
   ]
  },
  {
   "cell_type": "code",
   "execution_count": 94,
   "id": "8240dcca",
   "metadata": {},
   "outputs": [
    {
     "data": {
      "text/plain": [
       "numcode (generic function with 1 method)"
      ]
     },
     "execution_count": 94,
     "metadata": {},
     "output_type": "execute_result"
    }
   ],
   "source": [
    "function numcode(x)\n",
    "    Char(x)\n",
    "end"
   ]
  },
  {
   "cell_type": "code",
   "execution_count": 95,
   "id": "75766b9b",
   "metadata": {},
   "outputs": [
    {
     "data": {
      "text/plain": [
       "'c': ASCII/Unicode U+0063 (category Ll: Letter, lowercase)"
      ]
     },
     "execution_count": 95,
     "metadata": {},
     "output_type": "execute_result"
    }
   ],
   "source": [
    "numcode('c')"
   ]
  },
  {
   "cell_type": "code",
   "execution_count": 96,
   "id": "75cde13d",
   "metadata": {},
   "outputs": [
    {
     "data": {
      "text/plain": [
       "0x00000061"
      ]
     },
     "execution_count": 96,
     "metadata": {},
     "output_type": "execute_result"
    }
   ],
   "source": [
    "codepoint('a')"
   ]
  },
  {
   "cell_type": "code",
   "execution_count": 97,
   "id": "0e0647cb",
   "metadata": {},
   "outputs": [
    {
     "data": {
      "text/plain": [
       "97"
      ]
     },
     "execution_count": 97,
     "metadata": {},
     "output_type": "execute_result"
    }
   ],
   "source": [
    "Symbol(codepoint('a'))"
   ]
  },
  {
   "cell_type": "code",
   "execution_count": null,
   "id": "309d50b4",
   "metadata": {},
   "outputs": [],
   "source": []
  },
  {
   "cell_type": "code",
   "execution_count": 109,
   "id": "43b3aac4",
   "metadata": {},
   "outputs": [
    {
     "data": {
      "text/plain": [
       "vecfromstring (generic function with 1 method)"
      ]
     },
     "execution_count": 109,
     "metadata": {},
     "output_type": "execute_result"
    }
   ],
   "source": [
    "function vecfromstring(s)\n",
    "    n = length(s)\n",
    "    v = zeros(Symbol,n)\n",
    "    for i in 1:n\n",
    "        if occursin(s[i:i],\"ABCDEFGHIJKLMNOPQRSTUVWXYZ\")\n",
    "            v[i] = Symbol(codepoint(s[i]) - 64)\n",
    "        else\n",
    "            v[i] = Symbol(27)\n",
    "        end\n",
    "    end\n",
    "    v\n",
    "end\n",
    "        \n",
    "        \n",
    "    "
   ]
  },
  {
   "cell_type": "code",
   "execution_count": 113,
   "id": "d15d211f",
   "metadata": {},
   "outputs": [
    {
     "data": {
      "text/plain": [
       "7-element Vector{Int64}:\n",
       "  1\n",
       "  2\n",
       "  3\n",
       " 27\n",
       "  5\n",
       "  6\n",
       "  7"
      ]
     },
     "execution_count": 113,
     "metadata": {},
     "output_type": "execute_result"
    }
   ],
   "source": [
    "vecfromstring(\"ABC_EFG\")"
   ]
  },
  {
   "cell_type": "code",
   "execution_count": 103,
   "id": "2dcddf2b",
   "metadata": {},
   "outputs": [
    {
     "data": {
      "text/plain": [
       "true"
      ]
     },
     "execution_count": 103,
     "metadata": {},
     "output_type": "execute_result"
    }
   ],
   "source": [
    "occursin(\"a\", \"abc\")\n"
   ]
  },
  {
   "cell_type": "code",
   "execution_count": 104,
   "id": "2cb63552",
   "metadata": {},
   "outputs": [
    {
     "data": {
      "text/plain": [
       "\"test\""
      ]
     },
     "execution_count": 104,
     "metadata": {},
     "output_type": "execute_result"
    }
   ],
   "source": [
    "s = \"test\"\n"
   ]
  },
  {
   "cell_type": "code",
   "execution_count": 107,
   "id": "f553ef55",
   "metadata": {},
   "outputs": [
    {
     "data": {
      "text/plain": [
       "\"t\""
      ]
     },
     "execution_count": 107,
     "metadata": {},
     "output_type": "execute_result"
    }
   ],
   "source": [
    "s[begin:begin]"
   ]
  },
  {
   "cell_type": "code",
   "execution_count": 119,
   "id": "2d3b5df1",
   "metadata": {},
   "outputs": [
    {
     "data": {
      "text/plain": [
       "Set{Any}()"
      ]
     },
     "execution_count": 119,
     "metadata": {},
     "output_type": "execute_result"
    }
   ],
   "source": [
    "F = Set()"
   ]
  },
  {
   "cell_type": "code",
   "execution_count": 120,
   "id": "96ad0ecd",
   "metadata": {},
   "outputs": [
    {
     "data": {
      "text/plain": [
       "9-element Vector{Int64}:\n",
       " 3\n",
       " 8\n",
       " 4\n",
       " 2\n",
       " 6\n",
       " 1\n",
       " 7\n",
       " 5\n",
       " 9"
      ]
     },
     "execution_count": 120,
     "metadata": {},
     "output_type": "execute_result"
    }
   ],
   "source": [
    "p = Random.randperm(9)"
   ]
  },
  {
   "cell_type": "code",
   "execution_count": 125,
   "id": "508963b2",
   "metadata": {},
   "outputs": [
    {
     "data": {
      "text/plain": [
       "9-element Vector{Int64}:\n",
       " 5\n",
       " 9\n",
       " 3\n",
       " 8\n",
       " 4\n",
       " 2\n",
       " 6\n",
       " 1\n",
       " 7"
      ]
     },
     "execution_count": 125,
     "metadata": {},
     "output_type": "execute_result"
    }
   ],
   "source": [
    "circshift(p,2)"
   ]
  },
  {
   "cell_type": "code",
   "execution_count": 122,
   "id": "bc289b30",
   "metadata": {},
   "outputs": [
    {
     "data": {
      "text/plain": [
       "Set{Any} with 1 element:\n",
       "  [3, 8, 4, 2, 6, 1, 7, 5, 9]"
      ]
     },
     "execution_count": 122,
     "metadata": {},
     "output_type": "execute_result"
    }
   ],
   "source": [
    "push!(F,p)"
   ]
  },
  {
   "cell_type": "code",
   "execution_count": 123,
   "id": "d70be6d6",
   "metadata": {},
   "outputs": [
    {
     "data": {
      "text/plain": [
       "1"
      ]
     },
     "execution_count": 123,
     "metadata": {},
     "output_type": "execute_result"
    }
   ],
   "source": [
    "length(F)"
   ]
  },
  {
   "cell_type": "code",
   "execution_count": null,
   "id": "01f38a0e",
   "metadata": {},
   "outputs": [],
   "source": []
  }
 ],
 "metadata": {
  "kernelspec": {
   "display_name": "Julia 1.9.3",
   "language": "julia",
   "name": "julia-1.9"
  },
  "language_info": {
   "file_extension": ".jl",
   "mimetype": "application/julia",
   "name": "julia",
   "version": "1.9.3"
  }
 },
 "nbformat": 4,
 "nbformat_minor": 5
}
